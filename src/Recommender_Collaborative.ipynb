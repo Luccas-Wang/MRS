{
 "cells": [
  {
   "cell_type": "markdown",
   "metadata": {},
   "source": [
    "# ML Recommender System: Collaborative Filtering"
   ]
  },
  {
   "cell_type": "markdown",
   "metadata": {},
   "source": [
    "Useful libraries to import:"
   ]
  },
  {
   "cell_type": "code",
   "execution_count": 2,
   "metadata": {},
   "outputs": [],
   "source": [
    "from collaborative import *\n",
    "from pre_post_process import *\n",
    "import numpy as np\n",
    "import sklearn as sk\n",
    "import matplotlib.pyplot as plt\n",
    "%load_ext autoreload\n",
    "%autoreload 2"
   ]
  },
  {
   "cell_type": "code",
   "execution_count": null,
   "metadata": {},
   "outputs": [],
   "source": []
  },
  {
   "cell_type": "code",
   "execution_count": 4,
   "metadata": {},
   "outputs": [],
   "source": [
    "dat_dir = '../data/'\n",
    "sub_dir = '../submit/'"
   ]
  },
  {
   "cell_type": "code",
   "execution_count": null,
   "metadata": {},
   "outputs": [],
   "source": []
  },
  {
   "cell_type": "markdown",
   "metadata": {},
   "source": [
    "## 1. Data Loading"
   ]
  },
  {
   "cell_type": "markdown",
   "metadata": {},
   "source": [
    "Load the data. We also need the sample ids as those are the ratings that we want to predict."
   ]
  },
  {
   "cell_type": "code",
   "execution_count": 5,
   "metadata": {},
   "outputs": [
    {
     "name": "stdout",
     "output_type": "stream",
     "text": [
      "number of items: 1000, number of users: 10000\n",
      "number of items: 1000, number of users: 10000\n"
     ]
    }
   ],
   "source": [
    "# ids, ratings_matrix = load_data(\"data_train.csv\")\n",
    "# sample_ids, sample_matrix = load_data(\"sample_submission.csv\")\n",
    "\n",
    "_, ratings_matrix = load_data(dat_dir + \"data_train.csv\")\n",
    "sample_ids, _ = load_data(dat_dir + \"sample_submission.csv\")"
   ]
  },
  {
   "cell_type": "markdown",
   "metadata": {},
   "source": [
    "Split Data"
   ]
  },
  {
   "cell_type": "code",
   "execution_count": 6,
   "metadata": {},
   "outputs": [
    {
     "name": "stdout",
     "output_type": "stream",
     "text": [
      "the shape of original ratings. (# of row, # of col): (1000, 10000)\n",
      "the shape of valid ratings. (# of row, # of col): (1000, 10000)\n",
      "Total number of nonzero elements in origial data:1176952\n",
      "Total number of nonzero elements in train data:1068598\n",
      "Total number of nonzero elements in test data:108354\n"
     ]
    }
   ],
   "source": [
    "_, train_ratings, test_ratings = split_data(ratings_matrix, p_test = 0.1)"
   ]
  },
  {
   "cell_type": "code",
   "execution_count": 7,
   "metadata": {},
   "outputs": [],
   "source": [
    "# Get the ratings we want to predict for submission\n",
    "ratings_to_predict_submiss = movie_user_predictions(sample_ids)\n",
    "\n",
    "# Get the test ratings and ids we want to test our model on\n",
    "nz_row, nz_col = test_ratings.nonzero()\n",
    "nz_test = list(zip(nz_row, nz_col))\n",
    "test_ids = np.zeros((len(nz_test), 2), dtype=np.int)\n",
    "ratings_test = []\n",
    "for i, elem in enumerate(nz_test):\n",
    "    test_ids[i] = [elem[1] + 1, elem[0] + 1]\n",
    "    ratings_test.append(test_ratings[elem[0], elem[1]]) \n",
    "ratings_to_predict_test = movie_user_predictions(test_ids)"
   ]
  },
  {
   "cell_type": "code",
   "execution_count": 8,
   "metadata": {},
   "outputs": [
    {
     "name": "stdout",
     "output_type": "stream",
     "text": [
      "[317, 389, 565, 594, 776]\n",
      "[1.0, 4.0, 3.0, 2.0, 5.0, 4.0]\n",
      "[[ 318    1]\n",
      " [ 390    1]\n",
      " [ 566    1]\n",
      " ...\n",
      " [9771 1000]\n",
      " [9904 1000]\n",
      " [9976 1000]]\n"
     ]
    }
   ],
   "source": [
    "# Test that above computations are working as expected\n",
    "print(ratings_to_predict_test[0][:5])\n",
    "print(ratings_test[:6])\n",
    "print(test_ids)"
   ]
  },
  {
   "cell_type": "markdown",
   "metadata": {},
   "source": [
    "## 2. Statistics on the data"
   ]
  },
  {
   "cell_type": "code",
   "execution_count": 9,
   "metadata": {},
   "outputs": [
    {
     "name": "stdout",
     "output_type": "stream",
     "text": [
      "Mean of the ratings: 3.8572805008190647\n",
      "Sparsity of the matrix: 88.23048%\n",
      "The median of ratings amount per user is 883.5\n",
      "The median of ratings amount per movie is 104.0\n",
      "Minimum ratings: 8, Maximum ratings: 4590\n"
     ]
    }
   ],
   "source": [
    "# Use np.matrix instead of sp.sparse matrix to do the statistics\n",
    "statistics_ratings = np.zeros((1000,10000), dtype = np.float64)\n",
    "ratings_matrix.todense(out = statistics_ratings)\n",
    "\n",
    "nb_users, nb_movies = 10000, 1000\n",
    "mean = np.mean(statistics_ratings[statistics_ratings != 0])\n",
    "print(\"Mean of the ratings: {}\".format(mean))\n",
    "sparsity = 100 * (1 - (len(statistics_ratings[statistics_ratings != 0]) / (nb_users * nb_movies)))\n",
    "print(\"Sparsity of the matrix: {}%\".format(sparsity))\n",
    "ratings_per_user = np.count_nonzero(statistics_ratings, axis = 1)\n",
    "ratings_per_movie = np.count_nonzero(statistics_ratings, axis = 0)\n",
    "print(\"The median of ratings amount per user is {}\".format(np.median(ratings_per_user)))\n",
    "print(\"The median of ratings amount per movie is {}\".format(np.median(ratings_per_movie)))\n",
    "print(\"Minimum ratings: {}, Maximum ratings: {}\".format(min(ratings_per_user), max(ratings_per_user)))"
   ]
  },
  {
   "cell_type": "markdown",
   "metadata": {},
   "source": [
    "Distribution of the value of ratings:"
   ]
  },
  {
   "cell_type": "code",
   "execution_count": 10,
   "metadata": {},
   "outputs": [
    {
     "data": {
      "image/png": "[encoded data removed]",
      "text/plain": [
       "<Figure size 432x288 with 1 Axes>"
      ]
     },
     "metadata": {
      "needs_background": "light"
     },
     "output_type": "display_data"
    },
    {
     "name": "stdout",
     "output_type": "stream",
     "text": [
      "[ 43508  99180 274327 324700 435237]\n",
      "[1 2 3 4 5 6]\n"
     ]
    }
   ],
   "source": [
    "distrib_ratings, bins_ratings = np.histogram(statistics_ratings[statistics_ratings != 0], bins = [1, 2, 3, 4, 5, 6])\n",
    "percentages_ratings = 100 * distrib_ratings / np.sum(distrib_ratings)\n",
    "\n",
    "plt.bar(bins_ratings[:-1], percentages_ratings, width = 0.3, color = 'orange')\n",
    "plt.xlabel(\"Ratings\")\n",
    "plt.ylabel(\"Rating distribution in %\")\n",
    "plt.show()\n",
    "\n",
    "print(distrib_ratings)\n",
    "print(bins_ratings)"
   ]
  },
  {
   "cell_type": "markdown",
   "metadata": {},
   "source": [
    "Distribution of number of ratings:"
   ]
  },
  {
   "cell_type": "code",
   "execution_count": 11,
   "metadata": {},
   "outputs": [
    {
     "data": {
      "image/png": "[encoded data removed]",
      "text/plain": [
       "<Figure size 432x288 with 1 Axes>"
      ]
     },
     "metadata": {
      "needs_background": "light"
     },
     "output_type": "display_data"
    }
   ],
   "source": [
    "### Compute number of movies seen by each user\n",
    "movies_rated = np.count_nonzero(statistics_ratings, axis = 1)\n",
    "\n",
    "distrib_movies, bins_movies = np.histogram(movies_rated, bins = range(0,550,25))\n",
    "plt.bar(bins_movies[:-1], distrib_movies, width = 20, color = 'green', align = 'edge')\n",
    "plt.xlabel(\"Number of ratings\")\n",
    "plt.ylabel(\"Number of users\")\n",
    "plt.show()"
   ]
  },
  {
   "cell_type": "markdown",
   "metadata": {},
   "source": [
    "## 3. Algorithms"
   ]
  },
  {
   "cell_type": "markdown",
   "metadata": {},
   "source": [
    "The recommender system designed through this project uses the User-User Collaborative Filtering method. Collaborative filtering (CF) is a popular recommendation algorithm that bases the predictions and recommendations on the past ratings of users in the system. Thus, User-user CF consists of finding other users whose past rating behavior is similar to the one of the current user and uses their ratings on other items to predict what the current user will like.\n",
    "\n",
    "To compute the predictions for each user in the algorithm, we need a similarity function $s(u, v)$ computing the similarity between two users: u and v. The similarity function is used to compute a neighborhood $\\mathbf{K} \\subseteq U$ for each user u that consists of the K users that are most similar to u. Finally, the predicted rating for user u and movie i will be computed using the set of neighbors $\\mathbf{K}$ , as follows:\n",
    "    \n",
    "$$p_{u, i} = \\frac{\\sum_{v \\in \\mathbf{K}} s(u, v) . r_{v,i}}{\\sum_{v \\in \\mathbf{K}} |s(u, v)|}$$\n",
    "    \n",
    "where ${r}_{v,i}$ is the rating user v gave to movie i"
   ]
  },
  {
   "cell_type": "markdown",
   "metadata": {},
   "source": [
    "### 3.1 Similarity functions"
   ]
  },
  {
   "cell_type": "markdown",
   "metadata": {},
   "source": [
    "We need a similarity function to compute all similarities between users or movies, we will try the following functions:\n",
    "    - cosine similarity\n",
    "    - pearson correlation"
   ]
  },
  {
   "cell_type": "code",
   "execution_count": 12,
   "metadata": {},
   "outputs": [],
   "source": [
    "from sklearn.metrics import pairwise_distances\n",
    "from scipy.spatial.distance import correlation\n",
    "\n",
    "def getCosineMatrix(ratings, mode = 'cosine'):\n",
    "    nb_movies, nb_users = ratings.shape\n",
    "    ### similarity = 1 - distance\n",
    "    cosine_matrix = np.ones((nb_users, nb_users)) - sk.metrics.pairwise_distances(ratings.T.todense(), metric=mode)\n",
    "    ### Set to 0 the similarity from user to itself\n",
    "    cosine_matrix -= np.identity(nb_users)\n",
    "    return cosine_matrix"
   ]
  },
  {
   "cell_type": "code",
   "execution_count": 13,
   "metadata": {},
   "outputs": [],
   "source": [
    "cosMatrix = getCosineMatrix(train_ratings)\n",
    "pearsonMatrix = getCosineMatrix(train_ratings, mode = 'correlation')"
   ]
  },
  {
   "cell_type": "markdown",
   "metadata": {},
   "source": [
    "### 3.3 Predict the ratings"
   ]
  },
  {
   "cell_type": "code",
   "execution_count": 14,
   "metadata": {},
   "outputs": [],
   "source": [
    "def rmse(preds, ratings):\n",
    "    \"\"\"Compute rmse given 2 lists: predictions and real ratings\"\"\"\n",
    "    loss = np.sqrt(np.sum((np.array(preds) - np.array(ratings))**2) / len(preds))\n",
    "    return loss"
   ]
  },
  {
   "cell_type": "markdown",
   "metadata": {},
   "source": [
    "Compute predictions with tweak of parameters: similarity matrix and number of best neighbors to see which parameters give lowest rmse on testing set"
   ]
  },
  {
   "cell_type": "code",
   "execution_count": 12,
   "metadata": {},
   "outputs": [
    {
     "name": "stdout",
     "output_type": "stream",
     "text": [
      "Cosine similarities:\n",
      "K = 10, rmse = 1.0588374949858328\n",
      "K = 30, rmse = 1.0301089364921694\n",
      "K = 50, rmse = 1.0256213061841013\n",
      "K = 75, rmse = 1.023209280063811\n",
      "K = 100, rmse = 1.0227258640233687\n",
      "K = 150, rmse = 1.0223733877122745\n",
      "K = 200, rmse = 1.0223220929980306\n",
      "K = 300, rmse = 1.0228998546960983\n",
      "K = 500, rmse = 1.024069891635098\n",
      "K = 750, rmse = 1.0251494198295454\n",
      "K = 1000, rmse = 1.0258176957001104\n",
      "Pearson correlation:\n",
      "K = 10, rmse = 1.0618821010859054\n",
      "K = 30, rmse = 1.0303208171281697\n",
      "K = 50, rmse = 1.0242857391675433\n",
      "K = 75, rmse = 1.021927814574723\n",
      "K = 100, rmse = 1.0203271156690132\n",
      "K = 150, rmse = 1.019752110583573\n",
      "K = 200, rmse = 1.0197182775513638\n",
      "K = 300, rmse = 1.0200307262005475\n",
      "K = 500, rmse = 1.0212216563651997\n",
      "K = 750, rmse = 1.0224759195269695\n",
      "K = 1000, rmse = 1.023454915136376\n"
     ]
    }
   ],
   "source": [
    "# Convert sparse matrix (lil_matrix) to a numpy matrix in order to do some possible computations\n",
    "train_dense = np.zeros((1000,10000), dtype = np.float64)\n",
    "train_ratings.todense(out = train_dense)\n",
    "\n",
    "neighbors = [10, 30, 50, 75, 100, 150, 200, 300, 500, 750, 1000]\n",
    "print(\"Cosine similarities:\")\n",
    "for K in neighbors:\n",
    "    predictions_matrix = compute_matrix_predictions(train_dense.T, ratings_to_predict_test, cosMatrix, K)\n",
    "    # Transform matrix to list\n",
    "    preds = [p for movie_preds in predictions_matrix for p in movie_preds]\n",
    "    loss = rmse(preds, ratings_test)\n",
    "    print(\"K = {}, rmse = {}\".format(K, loss))\n",
    "    \n",
    "print(\"Pearson correlation:\")\n",
    "for K in neighbors:\n",
    "    predictions_matrix = compute_matrix_predictions(train_dense.T, ratings_to_predict_test, pearsonMatrix, K)\n",
    "    # Transform matrix to list\n",
    "    preds = [p for movie_preds in predictions_matrix for p in movie_preds]\n",
    "    loss = rmse(preds, ratings_test)\n",
    "    print(\"K = {}, rmse = {}\".format(K, loss))"
   ]
  },
  {
   "cell_type": "markdown",
   "metadata": {},
   "source": [
    "Best results using Pearson correlations with K = 200 best neighbors for each user"
   ]
  },
  {
   "cell_type": "code",
   "execution_count": 15,
   "metadata": {},
   "outputs": [],
   "source": [
    "pearsonMatrix = getCosineMatrix(ratings_matrix, mode = 'correlation')"
   ]
  },
  {
   "cell_type": "code",
   "execution_count": 16,
   "metadata": {},
   "outputs": [],
   "source": [
    "# Convert sparse matrix (lil_matrix) to a numpy matrix in order to do some possible computations\n",
    "ratings_dense = np.zeros((1000,10000), dtype = np.float64)\n",
    "ratings_matrix.todense(out = ratings_dense)\n",
    "K = 200\n",
    "\n",
    "# Compute predictions for submissions\n",
    "predictions_matrix = compute_matrix_predictions(ratings_dense.T, ratings_to_predict_submiss, pearsonMatrix, K)\n",
    "# Transform matrix to list\n",
    "preds = [p for movie_preds in predictions_matrix for p in movie_preds]"
   ]
  },
  {
   "cell_type": "markdown",
   "metadata": {
    "collapsed": true
   },
   "source": [
    "## 4. Submission"
   ]
  },
  {
   "cell_type": "code",
   "execution_count": 17,
   "metadata": {},
   "outputs": [],
   "source": [
    "### Create csv submission\n",
    "create_csv_submission(sample_ids, np.round(preds), \"user-userCF.csv\")"
   ]
  },
  {
   "cell_type": "code",
   "execution_count": 18,
   "metadata": {},
   "outputs": [
    {
     "data": {
      "text/plain": [
       "array([3., 3., 3., ..., 4., 4., 4.])"
      ]
     },
     "execution_count": 18,
     "metadata": {},
     "output_type": "execute_result"
    }
   ],
   "source": [
    "np.round(preds)"
   ]
  },
  {
   "cell_type": "code",
   "execution_count": null,
   "metadata": {},
   "outputs": [],
   "source": []
  }
 ],
 "metadata": {
  "kernelspec": {
   "display_name": "Python 3",
   "language": "python",
   "name": "python3"
  },
  "language_info": {
   "codemirror_mode": {
    "name": "ipython",
    "version": 3
   },
   "file_extension": ".py",
   "mimetype": "text/x-python",
   "name": "python",
   "nbconvert_exporter": "python",
   "pygments_lexer": "ipython3",
   "version": "3.6.5"
  }
 },
 "nbformat": 4,
 "nbformat_minor": 2
}
